{
 "cells": [
  {
   "cell_type": "code",
   "execution_count": 5,
   "id": "9da76952",
   "metadata": {},
   "outputs": [],
   "source": [
    "from scipy import signal\n",
    "import numpy as np\n",
    "import matplotlib.pyplot as plt\n"
   ]
  },
  {
   "cell_type": "code",
   "execution_count": 14,
   "id": "e62a6fb2",
   "metadata": {},
   "outputs": [
    {
     "name": "stderr",
     "output_type": "stream",
     "text": [
      "/tmp/ipykernel_10961/689885876.py:3: RuntimeWarning: invalid value encountered in true_divide\n",
      "  y = np.sin(x)/(x)\n"
     ]
    }
   ],
   "source": [
    "x = np.array([-3 + i for i in range(7)])\n",
    "x = np.pi * x\n",
    "\n",
    "y = np.sin(x)/(x)"
   ]
  },
  {
   "cell_type": "code",
   "execution_count": 15,
   "id": "c631c58d",
   "metadata": {},
   "outputs": [
    {
     "data": {
      "text/plain": [
       "array([ 3.89817183e-17, -3.89817183e-17,  3.89817183e-17,             nan,\n",
       "        3.89817183e-17, -3.89817183e-17,  3.89817183e-17])"
      ]
     },
     "execution_count": 15,
     "metadata": {},
     "output_type": "execute_result"
    }
   ],
   "source": [
    "y"
   ]
  },
  {
   "cell_type": "code",
   "execution_count": 10,
   "id": "4e4b46cc",
   "metadata": {},
   "outputs": [
    {
     "ename": "TypeError",
     "evalue": "can't multiply sequence by non-int of type 'float'",
     "output_type": "error",
     "traceback": [
      "\u001b[0;31m---------------------------------------------------------------------------\u001b[0m",
      "\u001b[0;31mTypeError\u001b[0m                                 Traceback (most recent call last)",
      "\u001b[0;32m/tmp/ipykernel_10961/2924371395.py\u001b[0m in \u001b[0;36m<module>\u001b[0;34m\u001b[0m\n\u001b[0;32m----> 1\u001b[0;31m \u001b[0mplt\u001b[0m\u001b[0;34m.\u001b[0m\u001b[0mplot\u001b[0m\u001b[0;34m(\u001b[0m\u001b[0mx\u001b[0m\u001b[0;34m,\u001b[0m \u001b[0mnp\u001b[0m\u001b[0;34m.\u001b[0m\u001b[0msin\u001b[0m\u001b[0;34m(\u001b[0m\u001b[0mnp\u001b[0m\u001b[0;34m.\u001b[0m\u001b[0mpi\u001b[0m \u001b[0;34m*\u001b[0m \u001b[0mx\u001b[0m\u001b[0;34m)\u001b[0m\u001b[0;34m/\u001b[0m\u001b[0;34m(\u001b[0m\u001b[0mnp\u001b[0m\u001b[0;34m.\u001b[0m\u001b[0mpi\u001b[0m \u001b[0;34m*\u001b[0m \u001b[0mx\u001b[0m\u001b[0;34m)\u001b[0m \u001b[0;34m)\u001b[0m\u001b[0;34m\u001b[0m\u001b[0;34m\u001b[0m\u001b[0m\n\u001b[0m",
      "\u001b[0;31mTypeError\u001b[0m: can't multiply sequence by non-int of type 'float'"
     ]
    }
   ],
   "source": [
    "plt.plot(x, np.sin(np.pi * x)/(np.pi * x) )"
   ]
  },
  {
   "cell_type": "code",
   "execution_count": 159,
   "id": "17682217",
   "metadata": {},
   "outputs": [],
   "source": [
    "def plot_graph(w_n, h1):\n",
    "    plt.plot(w_n,h1)\n",
    "    plt.ylim(-100, 5)\n",
    "    plt.xlim(0.15, 0.4)\n",
    "\n",
    "    plt.ylabel(\"Magnitude (db)\")\n",
    "    plt.xlabel(r'Normalized Frequency (x$\\pi$rad/sample)')\n",
    "    plt.title(r'Frequency response')\n"
   ]
  },
  {
   "cell_type": "code",
   "execution_count": 167,
   "id": "8786ba77",
   "metadata": {
    "scrolled": false
   },
   "outputs": [],
   "source": [
    "def filter_analyse(b, graph = False):\n",
    "    result = True\n",
    "    w, h = signal.freqz(b)\n",
    "    w_n = w/max(w)\n",
    "    h_n = 20 * np.log10 (abs(h))\n",
    "\n",
    "    if graph:\n",
    "        plot_graph(w_n, h_n)\n",
    "\n",
    "    max_passband = h_n[0]\n",
    "    min_passband = h_n[0]\n",
    "\n",
    "\n",
    "    for x, y in zip(w_n, h_n):\n",
    "        if x < 0.2:\n",
    "            if y < -3:\n",
    "                return False\n",
    "            min_passband = min_passband if y < min_passband else y\n",
    "            max_passband = max_passband if y > max_passband else y\n",
    "            if (max_passband - min_passband) > 1:\n",
    "                return False\n",
    "        if x > 0.24 and y > -60:\n",
    "            return False\n",
    "\n",
    "    return True\n"
   ]
  },
  {
   "cell_type": "code",
   "execution_count": 165,
   "id": "893068c4",
   "metadata": {},
   "outputs": [],
   "source": [
    "def filter_brute_force():\n",
    "    res_fin = 1000\n",
    "    data = (0, 0)\n",
    "    windows = ['boxcar', 'triang', 'blackman', 'hamming', 'hann', 'bartlett', 'flattop', 'parzen', 'bohman', \n",
    "               'blackmanharris', 'nuttall', 'barthann', 'cosine', 'exponential', 'tukey', 'taylor']\n",
    "    for shift in range(100): \n",
    "        for window_name in windows:\n",
    "            res = 100\n",
    "            while True:\n",
    "                b = signal.firwin(res, 0.2 + 0.0001 *shift , pass_zero = 'lowpass', window = window_name)\n",
    "                if filter_analyse(b):\n",
    "                    if res < res_fin:\n",
    "                        data = (res, window_name, 0.2+ 0.0001 * shift) \n",
    "                        res_fin = res\n",
    "\n",
    "                    break\n",
    "                else:\n",
    "                    res += 1\n",
    "                if res > 500:\n",
    "                    break\n",
    "    \n",
    "    return data"
   ]
  },
  {
   "cell_type": "code",
   "execution_count": 166,
   "id": "bf1328cc",
   "metadata": {},
   "outputs": [
    {
     "name": "stdout",
     "output_type": "stream",
     "text": [
      "Order -  149 Window type -  blackman Shift -  0.2063\n"
     ]
    },
    {
     "data": {
      "text/plain": [
       "True"
      ]
     },
     "execution_count": 166,
     "metadata": {},
     "output_type": "execute_result"
    },
    {
     "data": {
      "image/png": "[encoded data removed]",
      "text/plain": [
       "<Figure size 432x288 with 1 Axes>"
      ]
     },
     "metadata": {
      "needs_background": "light"
     },
     "output_type": "display_data"
    }
   ],
   "source": [
    "order, window_type, shift = filter_brute_force()\n",
    "print('Order - ', order, 'Window type - ', window_type, 'Shift - ', shift)\n",
    "\n",
    "b = signal.firwin(order, shift , pass_zero = 'lowpass', window = window_type)\n",
    "filter_analyse(b, graph = True)"
   ]
  },
  {
   "cell_type": "code",
   "execution_count": 190,
   "id": "019578ea",
   "metadata": {},
   "outputs": [
    {
     "name": "stdout",
     "output_type": "stream",
     "text": [
      "(123, 0.17300000000000001)\n"
     ]
    }
   ],
   "source": [
    "order_min = 1000\n",
    "for i in range(1, 200): \n",
    "    for order in range(101, 201, 2):\n",
    "        res = filter_analyse(signal.firls(order,[0, 0.001 * i, 0.24, 1], [1, 1, 0, 0]))\n",
    "        if res:\n",
    "            if order_min > order:\n",
    "                data = (order, 0.001 * i) \n",
    "                order_min = order\n",
    "            break\n",
    "    \n",
    "    \n",
    "print(data)"
   ]
  },
  {
   "cell_type": "code",
   "execution_count": 194,
   "id": "a3f9475c",
   "metadata": {},
   "outputs": [
    {
     "name": "stdout",
     "output_type": "stream",
     "text": [
      "Order -  123 Shift -  0.17300000000000001\n"
     ]
    },
    {
     "data": {
      "text/plain": [
       "True"
      ]
     },
     "execution_count": 194,
     "metadata": {},
     "output_type": "execute_result"
    },
    {
     "data": {
      "image/png": "[encoded data removed]",
      "text/plain": [
       "<Figure size 432x288 with 1 Axes>"
      ]
     },
     "metadata": {
      "needs_background": "light"
     },
     "output_type": "display_data"
    }
   ],
   "source": [
    "order, shift = data\n",
    "print('Order - ', order, 'Shift - ', shift)\n",
    "filter_analyse(signal.firls(order,[0, shift, 0.24, 1], [1, 1, 0, 0]), graph = True)"
   ]
  },
  {
   "cell_type": "code",
   "execution_count": 196,
   "id": "d1eda5b8",
   "metadata": {},
   "outputs": [
    {
     "name": "stdout",
     "output_type": "stream",
     "text": [
      "(123, 0.17300000000000001)\n"
     ]
    }
   ],
   "source": [
    "order_min = 1000\n",
    "for i in range(1, 200): \n",
    "    for order in range(101, 201, 2):\n",
    "        res = filter_analyse(signal.firwin2(order,[0, 0.001 * i, 0.24, 1], [1, 1, 0, 0]))\n",
    "        if res:\n",
    "            if order_min > order:\n",
    "                data = (order, 0.001 * i) \n",
    "                order_min = order\n",
    "            break\n",
    "    \n",
    "    \n",
    "print(data) - #same"
   ]
  },
  {
   "cell_type": "code",
   "execution_count": null,
   "id": "77ae17f4",
   "metadata": {},
   "outputs": [],
   "source": []
  }
 ],
 "metadata": {
  "kernelspec": {
   "display_name": "Python 3 (ipykernel)",
   "language": "python",
   "name": "python3"
  },
  "language_info": {
   "codemirror_mode": {
    "name": "ipython",
    "version": 3
   },
   "file_extension": ".py",
   "mimetype": "text/x-python",
   "name": "python",
   "nbconvert_exporter": "python",
   "pygments_lexer": "ipython3",
   "version": "3.8.10"
  }
 },
 "nbformat": 4,
 "nbformat_minor": 5
}
