{
 "cells": [
  {
   "cell_type": "code",
   "execution_count": 2,
   "id": "44a3e3a5",
   "metadata": {},
   "outputs": [],
   "source": [
    "from scipy import signal\n",
    "import numpy as np\n",
    "import matplotlib.pyplot as plt"
   ]
  },
  {
   "cell_type": "code",
   "execution_count": 3,
   "id": "344787e2",
   "metadata": {},
   "outputs": [],
   "source": [
    "def plot_graph(b, name):\n",
    "    w, h = signal.freqz(b)\n",
    "    w_n = w/max(w)\n",
    "    h_n = 20 * np.log10 (abs(h))\n",
    "   \n",
    "    plt.plot(w_n,h_n, label=f'{name}')\n",
    "    plt.legend()\n",
    "    plt.ylabel(\"Magnitude (db)\")\n",
    "    plt.xlabel(r'Normalized Frequency (x$\\pi$rad/sample)')\n",
    "    plt.title(r'Frequency response')"
   ]
  },
  {
   "cell_type": "code",
   "execution_count": 4,
   "id": "2cb62708",
   "metadata": {},
   "outputs": [],
   "source": [
    "def filter_analyse(b, fpass, fstop, attenuation):\n",
    "    result = True\n",
    "    w, h = signal.freqz(b)\n",
    "    w_n = w/max(w)\n",
    "    h_n = 20 * np.log10 (abs(h))\n",
    "\n",
    "    for x, y in zip(w_n, h_n):\n",
    "        if x < fpass:\n",
    "            if y < -6:\n",
    "                print(x, y)\n",
    "                return False\n",
    "        if x > fstop and y > -attenuation:\n",
    "            print(x, y)\n",
    "            return False\n",
    "\n",
    "    return True"
   ]
  },
  {
   "cell_type": "code",
   "execution_count": 5,
   "id": "722b4b47",
   "metadata": {},
   "outputs": [],
   "source": [
    "def get_filter(f_pass, f_stop, att, wind):\n",
    "    n = 1\n",
    "    h = signal.firwin(n, f_pass, pass_zero = 'lowpass', window = wind)\n",
    "    while not filter_analyse(h, f_pass, f_stop, att):\n",
    "        n += 1\n",
    "        h = signal.firwin(n, f_pass,  pass_zero = 'lowpass', window = wind)\n",
    "\n",
    "    return h, n"
   ]
  },
  {
   "cell_type": "code",
   "execution_count": 14,
   "id": "e42ec529",
   "metadata": {},
   "outputs": [
    {
     "name": "stdout",
     "output_type": "stream",
     "text": [
      "0.6007827788649707 0.0\n",
      "0.6007827788649707 -4.608295465729199\n",
      "0.6007827788649707 -1.322811214008929\n",
      "0.6007827788649707 -5.906167817901801\n",
      "0.6007827788649707 -8.242871921969252\n",
      "0.6007827788649707 -10.596757408838258\n",
      "0.6007827788649707 -13.138989945173094\n",
      "0.6007827788649707 -15.529030595744251\n",
      "0.6007827788649707 -17.50389209305931\n",
      "0.6007827788649707 -19.52029019401583\n",
      "0.6007827788649707 -22.140680349359734\n",
      "0.6007827788649707 -25.087086897858658\n",
      "0.6007827788649707 -27.647060687266574\n",
      "0.6007827788649707 -30.353298523946997\n",
      "0.6007827788649707 -34.63301608643236\n"
     ]
    }
   ],
   "source": [
    "f_pass = 4 * 10**6;\n",
    "f_stop = 6 * 10**6;\n",
    "f_s = 20 * 10**6;\n",
    "atten = 40;\n",
    "f_pass_norm = 2 * f_pass/ f_s\n",
    "f_stop_norm = 2 * f_stop / f_s\n",
    "h, n = get_filter(f_pass_norm, f_stop_norm, atten, 'hamming')"
   ]
  },
  {
   "cell_type": "code",
   "execution_count": 15,
   "id": "63635da2",
   "metadata": {},
   "outputs": [
    {
     "data": {
      "text/plain": [
       "16"
      ]
     },
     "execution_count": 15,
     "metadata": {},
     "output_type": "execute_result"
    }
   ],
   "source": [
    "n"
   ]
  },
  {
   "cell_type": "code",
   "execution_count": 16,
   "id": "944d5da9",
   "metadata": {},
   "outputs": [],
   "source": [
    "h_round = np.zeros(len(h))\n",
    "h_coefs = list()\n",
    "h_signs = list()\n",
    "# h_rounded_last = zeros(1, length(h));"
   ]
  },
  {
   "cell_type": "code",
   "execution_count": 17,
   "id": "f31ae35d",
   "metadata": {},
   "outputs": [
    {
     "data": {
      "text/plain": [
       "array([0., 0., 0., 0., 0., 0., 0., 0., 0., 0., 0., 0., 0., 0., 0., 0.])"
      ]
     },
     "execution_count": 17,
     "metadata": {},
     "output_type": "execute_result"
    }
   ],
   "source": [
    "h_round"
   ]
  },
  {
   "cell_type": "code",
   "execution_count": 18,
   "id": "af72a9a5",
   "metadata": {},
   "outputs": [],
   "source": [
    "#Multiplying and dividing a number by 2 is equivalent to shifting. \n",
    "#For code simplicity, it was decided to work with them.\n",
    "h_round = np.zeros(len(h))\n",
    "h_coefs = list()\n",
    "h_signs = list()\n",
    "cur_coef = 0\n",
    "order = 11\n",
    "\n",
    "for i in range(len(h)):\n",
    "    #Init values, \n",
    "    pow_list = []\n",
    "    cur_elem = h[i]\n",
    "    sign = 1 if cur_elem > 0 else -1\n",
    "    cur_pow, res_val = 0, 0\n",
    "    #We have information about sign, and now for the \n",
    "    # simplicity we can get absolute values\n",
    "    cur_elem = abs(cur_elem)\n",
    "    cur_elem_cp = cur_elem\n",
    "    \n",
    "    #While we have free bits\n",
    "    while cur_pow > -order:\n",
    "        \n",
    "        #If our number less our minimal value, then\n",
    "        # set it as our minimal and skip\n",
    "        if 2**-order > cur_elem:\n",
    "            pow_list.append(-order)\n",
    "            res_val = 2**(-order)\n",
    "            break\n",
    "            \n",
    "        #if cur_elem_cp >= 1, then after shift it greater,\n",
    "        #than bit on 0 position is 1\n",
    "        while (cur_elem_cp) < 1:\n",
    "            cur_pow -= 1\n",
    "            cur_elem_cp *= 2\n",
    "            if cur_pow == -order:\n",
    "                break\n",
    "                \n",
    "        cur_elem_cp -= 1\n",
    "        pow_list.append(cur_pow)\n",
    "        res_val += 2**(pow_list[-1])\n",
    "        \n",
    "               \n",
    "    h_round[i] = sign * res_val\n",
    "    h_coefs.append(pow_list)"
   ]
  },
  {
   "cell_type": "code",
   "execution_count": 19,
   "id": "c88f47df",
   "metadata": {},
   "outputs": [
    {
     "name": "stdout",
     "output_type": "stream",
     "text": [
      "0.00048828125  -  1.2459352202272148e-18\n",
      "0.00537109375  -  0.005571502753586114\n",
      "0.00830078125  -  0.007889558417819378\n",
      "-0.01611328125  -  -0.016521997384434998\n",
      "-0.05126953125  -  -0.05080560271276461\n",
      "0.00048828125  -  1.1992126494686934e-17\n",
      "0.18408203125  -  0.18387171313704825\n",
      "0.36962890625  -  0.36999482578874593\n",
      "0.36962890625  -  0.36999482578874593\n",
      "0.18408203125  -  0.18387171313704825\n",
      "0.00048828125  -  1.1992126494686937e-17\n",
      "-0.05126953125  -  -0.05080560271276463\n",
      "-0.01611328125  -  -0.016521997384434998\n",
      "0.00830078125  -  0.007889558417819385\n",
      "0.00537109375  -  0.005571502753586117\n",
      "0.00048828125  -  1.2459352202272148e-18\n"
     ]
    },
    {
     "data": {
      "image/png": "[encoded data removed]",
      "text/plain": [
       "<Figure size 432x288 with 1 Axes>"
      ]
     },
     "metadata": {
      "needs_background": "light"
     },
     "output_type": "display_data"
    }
   ],
   "source": [
    "plot_graph(h_round, 'Decomposed')\n",
    "plot_graph(h, 'Original')\n",
    "# print(h - h_round)\n",
    "# h_coefs\n",
    "\n",
    "for i in range(len(h)):\n",
    "    print(h_round[i],' - ', h[i])\n",
    "    "
   ]
  },
  {
   "cell_type": "code",
   "execution_count": null,
   "id": "b065e759",
   "metadata": {},
   "outputs": [],
   "source": []
  },
  {
   "cell_type": "code",
   "execution_count": null,
   "id": "e0dc592f",
   "metadata": {},
   "outputs": [],
   "source": []
  },
  {
   "cell_type": "code",
   "execution_count": null,
   "id": "1c72face",
   "metadata": {},
   "outputs": [],
   "source": []
  },
  {
   "cell_type": "code",
   "execution_count": null,
   "id": "e379e8ff",
   "metadata": {},
   "outputs": [],
   "source": []
  }
 ],
 "metadata": {
  "kernelspec": {
   "display_name": "Python 3 (ipykernel)",
   "language": "python",
   "name": "python3"
  },
  "language_info": {
   "codemirror_mode": {
    "name": "ipython",
    "version": 3
   },
   "file_extension": ".py",
   "mimetype": "text/x-python",
   "name": "python",
   "nbconvert_exporter": "python",
   "pygments_lexer": "ipython3",
   "version": "3.8.10"
  }
 },
 "nbformat": 4,
 "nbformat_minor": 5
}
