{
 "cells": [
  {
   "cell_type": "code",
   "execution_count": 6,
   "id": "44a3e3a5",
   "metadata": {},
   "outputs": [],
   "source": [
    "from scipy import signal\n",
    "import numpy as np\n",
    "import matplotlib.pyplot as plt"
   ]
  },
  {
   "cell_type": "code",
   "execution_count": 109,
   "id": "344787e2",
   "metadata": {},
   "outputs": [],
   "source": [
    "def plot_graph(b, name):\n",
    "    w, h = signal.freqz(b)\n",
    "    w_n = w/max(w)\n",
    "    h_n = 20 * np.log10 (abs(h))\n",
    "   \n",
    "    plt.plot(w_n,h_n, label=f'{name}')\n",
    "    plt.legend()\n",
    "    plt.ylabel(\"Magnitude (db)\")\n",
    "    plt.xlabel(r'Normalized Frequency (x$\\pi$rad/sample)')\n",
    "    plt.title(r'Frequency response')"
   ]
  },
  {
   "cell_type": "code",
   "execution_count": 95,
   "id": "3ed993f1",
   "metadata": {},
   "outputs": [],
   "source": [
    "def filter_analyse(b, fpass, fstop, attenuation):\n",
    "    result = True\n",
    "    w, h = signal.freqz(b)\n",
    "    w_n = w/max(w)\n",
    "    h_n = 20 * np.log10 (abs(h))\n",
    "\n",
    "    for x, y in zip(w_n, h_n):\n",
    "        if x < fpass:\n",
    "            if y < -6:\n",
    "                print(x, y)\n",
    "                return False\n",
    "        if x > fstop and y > -attenuation:\n",
    "            print(x, y)\n",
    "            return False\n",
    "\n",
    "    return True"
   ]
  },
  {
   "cell_type": "code",
   "execution_count": 85,
   "id": "6ca3e1ba",
   "metadata": {},
   "outputs": [],
   "source": [
    "def get_filter(f_pass, f_stop, att, wind):\n",
    "    n = 1\n",
    "    h = signal.firwin(n, f_pass, pass_zero = 'lowpass', window = wind)\n",
    "    while not filter_analyse(h, f_pass, f_stop, att):\n",
    "        n += 1\n",
    "        h = signal.firwin(n, f_pass,  pass_zero = 'lowpass', window = wind)\n",
    "\n",
    "    return h, n"
   ]
  },
  {
   "cell_type": "code",
   "execution_count": 86,
   "id": "e42ec529",
   "metadata": {},
   "outputs": [
    {
     "name": "stdout",
     "output_type": "stream",
     "text": [
      "0.6007827788649707 0.0\n",
      "0.6007827788649707 -4.608295465729199\n",
      "0.6007827788649707 -9.643274665532871e-16\n",
      "0.6007827788649707 -4.608295465729199\n",
      "0.6007827788649707 -5.104420861156677\n",
      "0.6007827788649707 -7.654458655613002\n",
      "0.6007827788649707 -9.729624166513208\n",
      "0.6007827788649707 -11.633521792545146\n",
      "0.6007827788649707 -13.395872737157484\n",
      "0.6007827788649707 -15.080534926219899\n",
      "0.6007827788649707 -16.74677884737241\n",
      "0.6007827788649707 -18.43451116714345\n",
      "0.6007827788649707 -20.177571265811714\n",
      "0.6007827788649707 -22.011181325046095\n",
      "0.6007827788649707 -23.964220622157626\n",
      "0.6007827788649707 -26.05471730805565\n",
      "0.6007827788649707 -28.298216256047823\n",
      "0.6007827788649707 -30.715871276803593\n",
      "0.6007827788649707 -33.330906918415245\n",
      "0.6007827788649707 -36.16344943703302\n",
      "0.6007827788649707 -39.23756731508681\n"
     ]
    }
   ],
   "source": [
    "f_pass = 4 * 10**6;\n",
    "f_stop = 6 * 10**6;\n",
    "f_s = 20 * 10**6;\n",
    "atten = 40;\n",
    "f_pass_norm = 2 * f_pass/ f_s\n",
    "f_stop_norm = 2 * f_stop / f_s\n",
    "h, n = get_filter(f_pass_norm, f_stop_norm, atten, 'blackman')"
   ]
  },
  {
   "cell_type": "code",
   "execution_count": 87,
   "id": "60a610ec",
   "metadata": {},
   "outputs": [
    {
     "data": {
      "text/plain": [
       "22"
      ]
     },
     "execution_count": 87,
     "metadata": {},
     "output_type": "execute_result"
    }
   ],
   "source": [
    "n"
   ]
  },
  {
   "cell_type": "code",
   "execution_count": 88,
   "id": "944d5da9",
   "metadata": {},
   "outputs": [],
   "source": [
    "h_round = np.zeros(len(h))\n",
    "h_coefs = list()\n",
    "h_signs = list()\n",
    "# h_rounded_last = zeros(1, length(h));"
   ]
  },
  {
   "cell_type": "code",
   "execution_count": 89,
   "id": "f31ae35d",
   "metadata": {},
   "outputs": [
    {
     "data": {
      "text/plain": [
       "array([0., 0., 0., 0., 0., 0., 0., 0., 0., 0., 0., 0., 0., 0., 0., 0., 0.,\n",
       "       0., 0., 0., 0., 0.])"
      ]
     },
     "execution_count": 89,
     "metadata": {},
     "output_type": "execute_result"
    }
   ],
   "source": [
    "h_round"
   ]
  },
  {
   "cell_type": "code",
   "execution_count": 93,
   "id": "af72a9a5",
   "metadata": {},
   "outputs": [
    {
     "name": "stdout",
     "output_type": "stream",
     "text": [
      "0.00016366908895746666\n",
      "0.34077717673956687\n",
      "0.36310870695826747\n",
      "[-1.52587891e-05 -1.67846680e-04 -1.29699707e-03  1.52587891e-05\n",
      "  8.31604004e-03  1.03302002e-02 -1.90887451e-02 -5.44891357e-02\n",
      "  1.52587891e-05  1.85684204e-01  3.70681763e-01  3.70681763e-01\n",
      "  1.85684204e-01  1.52587891e-05 -5.44891357e-02 -1.90887451e-02\n",
      "  1.03302002e-02  8.31604004e-03  1.52587891e-05 -1.29699707e-03\n",
      " -1.67846680e-04 -1.52587891e-05]\n"
     ]
    }
   ],
   "source": [
    "#Multiplying and dividing a number by 2 is equivalent to shifting. \n",
    "#For code simplicity, it was decided to work with them.\n",
    "h_round = np.zeros(len(h))\n",
    "h_coefs = list()\n",
    "h_signs = list()\n",
    "cur_coef = 0\n",
    "order = 16\n",
    "\n",
    "for i in range(len(h)):\n",
    "    #Init values, \n",
    "    pow_list = []\n",
    "    cur_elem = h[i]\n",
    "    sign = 1 if cur_elem > 0 else -1\n",
    "    cur_pow, res_val = 0, 0\n",
    "    #We have information about sign, and now for the \n",
    "    # simplicity we can get absolute values\n",
    "    cur_elem = abs(cur_elem)\n",
    "    cur_elem_cp = cur_elem\n",
    "    \n",
    "    #While we have free bits\n",
    "    while cur_pow > -order:\n",
    "        \n",
    "        #If our number less our minimal value, then\n",
    "        # set it as our minimal and skip\n",
    "        if 2**-order > cur_elem:\n",
    "            pow_list.append(-order)\n",
    "            res_val = 2**(-order)\n",
    "            break\n",
    "            \n",
    "        #if cur_elem_cp >= 1, then after shift it greater,\n",
    "        #than bit on 0 position is 1\n",
    "        while (cur_elem_cp) < 1:\n",
    "            cur_pow -= 1\n",
    "            cur_elem_cp *= 2\n",
    "            if cur_pow == -order:\n",
    "                break\n",
    "                \n",
    "        cur_elem_cp -= 1\n",
    "        pow_list.append(cur_pow)\n",
    "        res_val += 2**(pow_list[-1])\n",
    "        \n",
    "               \n",
    "    h_round[i] = sign * res_val\n",
    "    h_coefs.append(pow_list)"
   ]
  },
  {
   "cell_type": "code",
   "execution_count": 110,
   "id": "c88f47df",
   "metadata": {},
   "outputs": [
    {
     "name": "stdout",
     "output_type": "stream",
     "text": [
      "[-1.52587891e-05 -1.67846680e-04 -1.29699707e-03  1.52587891e-05\n",
      "  8.31604004e-03  1.03302002e-02 -1.90887451e-02 -5.44891357e-02\n",
      "  1.52587891e-05  1.85684204e-01  3.70681763e-01  3.70681763e-01\n",
      "  1.85684204e-01  1.52587891e-05 -5.44891357e-02 -1.90887451e-02\n",
      "  1.03302002e-02  8.31604004e-03  1.52587891e-05 -1.29699707e-03\n",
      " -1.67846680e-04 -1.52587891e-05] here\n",
      "[-2.47217469e-19 -1.63669089e-04 -1.28563917e-03  1.41002036e-18\n",
      "  8.31977180e-03  1.03225021e-02 -1.90862874e-02 -5.44763947e-02\n",
      "  1.23538414e-17  1.85696636e-01  3.70673080e-01  3.70673080e-01\n",
      "  1.85696636e-01  1.23538414e-17 -5.44763947e-02 -1.90862874e-02\n",
      "  1.03225021e-02  8.31977180e-03  1.41002036e-18 -1.28563917e-03\n",
      " -1.63669089e-04 -2.47217469e-19] yeap\n",
      "-1.52587890625e-05  -  -2.4721746918667695e-19\n",
      "-0.0001678466796875  -  -0.00016366908895746666\n",
      "-0.0012969970703125  -  -0.0012856391687076885\n",
      "1.52587890625e-05  -  1.4100203578540767e-18\n",
      "0.0083160400390625  -  0.008319771796810593\n",
      "0.0103302001953125  -  0.010322502105936517\n",
      "-0.0190887451171875  -  -0.01908628742110514\n",
      "-0.0544891357421875  -  -0.0544763946912777\n",
      "1.52587890625e-05  -  1.2353841392554829e-17\n",
      "0.1856842041015625  -  0.1856966359966776\n",
      "0.3706817626953125  -  0.3706730804706232\n",
      "0.3706817626953125  -  0.3706730804706232\n",
      "0.1856842041015625  -  0.1856966359966776\n",
      "1.52587890625e-05  -  1.2353841392554825e-17\n",
      "-0.0544891357421875  -  -0.05447639469127766\n",
      "-0.0190887451171875  -  -0.01908628742110514\n",
      "0.0103302001953125  -  0.010322502105936509\n",
      "0.0083160400390625  -  0.008319771796810583\n",
      "1.52587890625e-05  -  1.4100203578540767e-18\n",
      "-0.0012969970703125  -  -0.0012856391687076849\n",
      "-0.0001678466796875  -  -0.00016366908895746636\n",
      "-1.52587890625e-05  -  -2.4721746918667695e-19\n"
     ]
    },
    {
     "data": {
      "image/png": "[encoded data removed]",
      "text/plain": [
       "<Figure size 432x288 with 1 Axes>"
      ]
     },
     "metadata": {
      "needs_background": "light"
     },
     "output_type": "display_data"
    }
   ],
   "source": [
    "plot_graph(h_round, 'yeap')\n",
    "plot_graph(h, 'yeap')\n",
    "print(h_round)\n",
    "print(h)\n",
    "# print(h - h_round)\n",
    "# h_coefs\n",
    "\n",
    "for i in range(len(h)):\n",
    "    print(h_round[i],' - ', h[i])"
   ]
  },
  {
   "cell_type": "code",
   "execution_count": null,
   "id": "e0dc592f",
   "metadata": {},
   "outputs": [],
   "source": []
  },
  {
   "cell_type": "code",
   "execution_count": null,
   "id": "1edec522",
   "metadata": {},
   "outputs": [],
   "source": []
  },
  {
   "cell_type": "code",
   "execution_count": null,
   "id": "f3dba5cc",
   "metadata": {},
   "outputs": [],
   "source": []
  }
 ],
 "metadata": {
  "kernelspec": {
   "display_name": "Python 3 (ipykernel)",
   "language": "python",
   "name": "python3"
  },
  "language_info": {
   "codemirror_mode": {
    "name": "ipython",
    "version": 3
   },
   "file_extension": ".py",
   "mimetype": "text/x-python",
   "name": "python",
   "nbconvert_exporter": "python",
   "pygments_lexer": "ipython3",
   "version": "3.8.10"
  }
 },
 "nbformat": 4,
 "nbformat_minor": 5
}
